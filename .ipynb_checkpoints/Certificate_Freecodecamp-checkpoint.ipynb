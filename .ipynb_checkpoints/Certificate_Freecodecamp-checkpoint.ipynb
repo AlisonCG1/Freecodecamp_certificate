{
 "cells": [
  {
   "cell_type": "code",
   "execution_count": null,
   "id": "95166809",
   "metadata": {},
   "outputs": [],
   "source": [
    "import numpy as np\n",
    "\n",
    "def calculate(list):\n",
    "    if len(list) < 9:\n",
    "\n",
    "        raise ValueError ('List must contain nine numbers.')\n",
    "\n",
    "    else:\n",
    "        list = np.array(list).reshape(3, 3)\n",
    "\n",
    "    calculations = {'mean': [np.mean(list,0), np.mean(list,1), np.mean(list)],\n",
    "\n",
    "    'variance': [np.var(list,0), np.var(list,1), np.var(list)],\n",
    "\n",
    "    'standard deviation': [np.std(list,0), np.std(list,1), np.std(list)],\n",
    "\n",
    "    'max': [np.max(list,0), np.max(list,1), np.max(list)],\n",
    "\n",
    "    'min':[np.min(list,0), np.min(list,1), np.min(list)],\n",
    "\n",
    "    'sum': [np.sum(list,0), np.sum(list,1), np.sum(list)]\n",
    "\n",
    "}\n",
    "\n",
    "    return calculations"
   ]
  },
  {
   "cell_type": "code",
   "execution_count": null,
   "id": "04476fc1",
   "metadata": {},
   "outputs": [],
   "source": [
    "# Example usage\n",
    "if __name__ == \"__main__\":\n",
    "    result = calculate([0, 1, 2, 3, 4, 5, 6, 7, 8])\n",
    "    print(result)"
   ]
  },
  {
   "cell_type": "code",
   "execution_count": null,
   "id": "f432a8c1",
   "metadata": {},
   "outputs": [],
   "source": [
    "import numpy as np\n",
    "\n",
    "def calculate(lst):\n",
    "    # Check if the input list has exactly 9 elements\n",
    "    if len(lst) != 9:\n",
    "        raise ValueError(\"List must contain nine numbers.\")\n",
    "\n",
    "    # Convert the list into a 3x3 NumPy array\n",
    "    matrix = np.array(lst).reshape(3, 3)\n",
    "\n",
    "    # Calculate the required statistics\n",
    "    calculations = {\n",
    "        'mean': [\n",
    "            np.mean(matrix, axis=0).tolist(),  # Mean of columns\n",
    "            np.mean(matrix, axis=1).tolist(),  # Mean of rows\n",
    "            np.mean(matrix).tolist()           # Mean of the flattened matrix\n",
    "        ],\n",
    "        'variance': [\n",
    "            np.var(matrix, axis=0).tolist(),   # Variance of columns\n",
    "            np.var(matrix, axis=1).tolist(),   # Variance of rows\n",
    "            np.var(matrix).tolist()            # Variance of the flattened matrix\n",
    "        ],\n",
    "        'standard deviation': [\n",
    "            np.std(matrix, axis=0).tolist(),   # Standard deviation of columns\n",
    "            np.std(matrix, axis=1).tolist(),   # Standard deviation of rows\n",
    "            np.std(matrix).tolist()            # Standard deviation of the flattened matrix\n",
    "        ],\n",
    "        'max': [\n",
    "            np.max(matrix, axis=0).tolist(),   # Max of columns\n",
    "            np.max(matrix, axis=1).tolist(),   # Max of rows\n",
    "            np.max(matrix).tolist()            # Max of the flattened matrix\n",
    "        ],\n",
    "        'min': [\n",
    "            np.min(matrix, axis=0).tolist(),   # Min of columns\n",
    "            np.min(matrix, axis=1).tolist(),   # Min of rows\n",
    "            np.min(matrix).tolist()            # Min of the flattened matrix\n",
    "        ],\n",
    "        'sum': [\n",
    "            np.sum(matrix, axis=0).tolist(),   # Sum of columns\n",
    "            np.sum(matrix, axis=1).tolist(),   # Sum of rows\n",
    "            np.sum(matrix).tolist()            # Sum of the flattened matrix\n",
    "        ]\n",
    "    }\n",
    "\n",
    "    return calculations\n",
    "\n",
    "# Example usage\n",
    "if __name__ == \"__main__\":\n",
    "    result = calculate([0, 1, 2, 3, 4, 5, 6, 7, 8])\n",
    "    print(result)"
   ]
  },
  {
   "cell_type": "markdown",
   "id": "0cedfc63",
   "metadata": {},
   "source": [
    "Demographic Data Analyzer"
   ]
  },
  {
   "cell_type": "code",
   "execution_count": null,
   "id": "87961f6f",
   "metadata": {},
   "outputs": [],
   "source": [
    "import pandas as pd\n",
    "\n",
    "adult = pd.read_csv('certificate/adult.csv')\n",
    "\n",
    "adult"
   ]
  },
  {
   "cell_type": "code",
   "execution_count": null,
   "id": "b84593b5",
   "metadata": {},
   "outputs": [],
   "source": [
    "# Replace '?' with NaN\n",
    "adult.replace('?', np.nan, inplace=True)\n",
    "\n",
    "# Drop rows with NaN values\n",
    "adult.dropna(inplace=True)\n",
    "\n",
    "print(adult)"
   ]
  },
  {
   "cell_type": "code",
   "execution_count": null,
   "id": "49081b96",
   "metadata": {},
   "outputs": [],
   "source": [
    "#How many people of each race are represented in this dataset?  \n",
    "raceP = adult.groupby('race').count()\n",
    "\n",
    "raceP"
   ]
  },
  {
   "cell_type": "code",
   "execution_count": null,
   "id": "dbcbe9b7",
   "metadata": {},
   "outputs": [],
   "source": [
    "#What is the average age of men?\n",
    "men_age = adult[adult['sex'] == 'Male']\n",
    "\n",
    "# Calculate the average age of men\n",
    "average_age_men = men_age['age'].mean()\n",
    "\n",
    "print(f\"The average age of men is: {average_age_men}\")"
   ]
  },
  {
   "cell_type": "code",
   "execution_count": null,
   "id": "d7864db3",
   "metadata": {},
   "outputs": [],
   "source": [
    "#What is the percentage of people who have a Bachelor's degree?\n",
    "av_bachelors = adult[adult['education'] == 'Bachelors']\n",
    "\n",
    "# Calculate the number of people with a Bachelor's degree\n",
    "num_bachelors = len(av_bachelors)\n",
    "\n",
    "# Calculate the total number of people\n",
    "total_people = len(adult)\n",
    "\n",
    "# Calculate the percentage of people with a Bachelor's degree\n",
    "percentage_bachelors = (num_bachelors / total_people) * 100\n",
    "\n",
    "print(f\"The percentage of people with a Bachelor's degree is: {percentage_bachelors:.2f}%\")"
   ]
  },
  {
   "cell_type": "code",
   "execution_count": null,
   "id": "80374c70",
   "metadata": {},
   "outputs": [],
   "source": [
    "#What percentage of people with advanced education (Bachelors, Masters, or Doctorate) make more than 50K?\n",
    "advanced_education = adult[adult['education'].isin(['Bachelors', 'Masters', 'Doctorate'])] \n",
    "\n",
    "advanced_education = advanced_education.loc[(advanced_education['salary'] > '>50')]\n",
    "\n",
    "# Calculate the number of people with a Bachelor's, Masters, or Doctorate degree\n",
    "num_education = len(advanced_education)\n",
    "\n",
    "# Calculate the total number of people\n",
    "total_population = len(adult)\n",
    "\n",
    "# Calculate the percentage of people with a Bachelor's, Masters, or Doctorate degree\n",
    "percentage_total = (num_education / total_population) * 100\n",
    "\n",
    "print(f\"The percentage of people with a salary higher than 50k: {percentage_total:.2f}%\")\n",
    "\n",
    "advanced_education"
   ]
  },
  {
   "cell_type": "code",
   "execution_count": null,
   "id": "07ae5305",
   "metadata": {},
   "outputs": [],
   "source": [
    "#What percentage of people without advanced education make more than 50K?\n",
    "non_education = adult[~adult['education'].isin(['Bachelors', 'Masters', 'Doctorate'])]\n",
    "not_education = non_education.loc[(non_education['salary'] > '>50')]\n",
    "\n",
    "numnot_education = len(not_education)\n",
    "\n",
    "# Calculate the total number of people\n",
    "total_population = len(adult)\n",
    "\n",
    "# Calculate the percentage of people with a Bachelor's, Masters, or Doctorate degree\n",
    "percentage_total = (numnot_education / total_population) * 100\n",
    "\n",
    "not_education"
   ]
  },
  {
   "cell_type": "code",
   "execution_count": null,
   "id": "ab2aa181",
   "metadata": {},
   "outputs": [],
   "source": [
    "#What is the minimum number of hours a person works per week?\n",
    "minvalue = adult['hours-per-week'].min() \n",
    "minvalue"
   ]
  },
  {
   "cell_type": "code",
   "execution_count": null,
   "id": "fccc0899",
   "metadata": {},
   "outputs": [],
   "source": [
    "#What percentage of the people who work the minimum number of hours per week have a salary of more than 50K?\n",
    "# Filter the DataFrame to include only people who work the minimum number of hours per week\n",
    "min_hours_df = adult[adult['hours-per-week'] == minvalue]\n",
    "\n",
    "# Calculate the number of people who work the minimum number of hours per week\n",
    "total_min_hours = len(min_hours_df)\n",
    "\n",
    "# Calculate the number of people who work the minimum number of hours per week and have a salary of more than 50K\n",
    "min_hours_high_salary = min_hours_df[min_hours_df['salary'] > '>50']\n",
    "count_min_hours_high_salary = len(min_hours_high_salary)\n",
    "\n",
    "# Calculate the percentage\n",
    "percentage = (count_min_hours_high_salary / total_min_hours) * 100\n",
    "\n",
    "print(f\"The percentage of people who work the minimum number of hours per week and have a salary of more than 50K is {percentage:.2f}%.\")\n"
   ]
  },
  {
   "cell_type": "code",
   "execution_count": null,
   "id": "6d50c3c7",
   "metadata": {},
   "outputs": [],
   "source": [
    "#What country has the highest percentage of people that earn >50K and what is that percentage?\n",
    "high_earners_df = adult[adult['salary'] > '>50']\n",
    "\n",
    "total_people_per_country = adult['native-country'].value_counts()"
   ]
  },
  {
   "cell_type": "code",
   "execution_count": null,
   "id": "7db8a18e",
   "metadata": {},
   "outputs": [],
   "source": [
    "# Calculate the number of people earning more than 50K in each country\n",
    "high_earners_per_country = high_earners_df['native-country'].value_counts()\n",
    "\n",
    "# Calculate the percentage of high earners in each country\n",
    "percentage_high_earners_per_country = (high_earners_per_country / total_people_per_country) * 100\n",
    "\n",
    "# Identify the country with the highest percentage\n",
    "highest_percentage_country = percentage_high_earners_per_country.idxmax()\n",
    "highest_percentage = percentage_high_earners_per_country.max()\n",
    "\n",
    "print(f\"The country with the highest percentage of people earning more than 50K is {highest_percentage_country} with {highest_percentage:.2f}%.\")"
   ]
  },
  {
   "cell_type": "code",
   "execution_count": null,
   "id": "114bbe4c",
   "metadata": {},
   "outputs": [],
   "source": [
    "#Identify the most popular occupation for those who earn >50K in India.\n",
    "high_earners_india_df = adult[(adult['salary'] > '>50') & (adult['native-country'] == 'India')]\n",
    "\n",
    "most_popular_occupation = high_earners_india_df['occupation'].mode()[0]\n",
    "\n",
    "high_earners_india_df"
   ]
  },
  {
   "cell_type": "markdown",
   "id": "8e011ae3",
   "metadata": {},
   "source": [
    "Medical Records practice"
   ]
  },
  {
   "cell_type": "code",
   "execution_count": 3,
   "id": "2e67c92f",
   "metadata": {},
   "outputs": [],
   "source": [
    "import seaborn as sns\n",
    "import matplotlib.pyplot as plt\n",
    "import numpy as np\n",
    "import pandas as pd"
   ]
  },
  {
   "cell_type": "code",
   "execution_count": null,
   "id": "0bdae494",
   "metadata": {},
   "outputs": [],
   "source": [
    "#Project 3 Medical Data Visualizer\n",
    "#Import the data from medical_examination.csv and assign it to the df variable\n",
    "\n",
    "df = pd.read_csv('data/medical_examination.csv')\n",
    "\n",
    "df = pd.DataFrame(df)\n",
    "\n",
    "df"
   ]
  },
  {
   "cell_type": "markdown",
   "id": "3b192ee5",
   "metadata": {},
   "source": [
    "Add an overweight column to the data. To determine if a person is overweight, first calculate their BMI by dividing their weight in kilograms by the square of their height in meters. If that value is > 25 then the person is overweight. Use the value 0 for NOT overweight and the value 1 for overweight. "
   ]
  },
  {
   "cell_type": "code",
   "execution_count": null,
   "id": "d1e84864",
   "metadata": {},
   "outputs": [],
   "source": [
    "# Calculate BMI\n",
    "df['BMI'] = df['weight'] / df['height'] ** 2\n",
    "\n",
    "#Create the overweight column in the df variable\n",
    "df['overweight'] = df['BMI'].apply(lambda x: 1 if x > 25 else 0)\n",
    "\n",
    "df"
   ]
  },
  {
   "cell_type": "markdown",
   "id": "8435042b",
   "metadata": {},
   "source": [
    "Normalize data by making 0 always good and 1 always bad. If the value of cholesterol or gluc is 1, set the value to 0. If the value is more than 1, set the value to 1."
   ]
  },
  {
   "cell_type": "code",
   "execution_count": null,
   "id": "3faec0cb",
   "metadata": {},
   "outputs": [],
   "source": [
    "# Normalize the cholesterol and gluc values\n",
    "df['cholesterol']  = df['cholesterol'].apply(lambda x: 0 if x == 1 else 1)\n",
    "df['gluc'] = df['gluc'].apply(lambda x: 0 if x == 1 else 1)\n",
    "df"
   ]
  },
  {
   "cell_type": "markdown",
   "id": "bd8cd9ed",
   "metadata": {},
   "source": [
    "Convert the data into long format and create a chart that shows the value counts of the categorical features using seaborn's catplot(). The dataset should be split by Cardio so there is one chart for each cardio value. "
   ]
  },
  {
   "cell_type": "code",
   "execution_count": null,
   "id": "1e69aa13",
   "metadata": {},
   "outputs": [],
   "source": [
    "# Convert to long format\n",
    "df_long = pd.melt(df, id_vars=['cardio'], value_vars=['cholesterol', 'gluc', 'smoke', 'alco', 'active'], \n",
    "                  var_name='feature', value_name='value')\n",
    "\n",
    "df_long"
   ]
  },
  {
   "cell_type": "markdown",
   "id": "a1bc5397",
   "metadata": {},
   "source": [
    "Group and reformat the data in df_cat to split it by cardio. Show the counts of each feature. You will have to rename one of the columns for the catplot to work correctly."
   ]
  },
  {
   "cell_type": "code",
   "execution_count": null,
   "id": "6e185f18",
   "metadata": {},
   "outputs": [],
   "source": [
    "# Step 2: Melt the DataFrame using pd.melt\n",
    "df_cat = pd.melt(df, id_vars=['cardio'], value_vars=['cholesterol', 'gluc', 'smoke', 'alco', 'active', 'overweight'])\n",
    "\n",
    "# Group by 'cardio' and 'variable' and count the occurrences\n",
    "df_grouped = df_cat.groupby(['cardio', 'variable', 'value']).size().reset_index(name='count')\n",
    "# Step 4: Rename columns appropriately\n",
    "df_grouped.rename(columns={'variable': 'Feature', 'value': 'Value', 'count': 'Count'}, inplace=True)\n",
    "\n",
    "df_grouped"
   ]
  },
  {
   "cell_type": "code",
   "execution_count": null,
   "id": "b69ac9e6",
   "metadata": {},
   "outputs": [],
   "source": [
    "plt.figure(figsize=(12, 8))\n",
    "sns.catplot(x='Feature', y='Count', hue='Value', col='cardio', kind='bar', data=df_grouped, height=5, aspect=1.5)\n",
    "\n",
    "# Add titles and labels\n",
    "plt.subplots_adjust(top=0.9)\n",
    "plt.suptitle('Counts of Each Feature Split by Cardio')\n",
    "plt.show()"
   ]
  },
  {
   "cell_type": "code",
   "execution_count": null,
   "id": "e63f04d4",
   "metadata": {},
   "outputs": [],
   "source": [
    "# Create a catplot\n",
    "fig = sns.catplot(x='value', col='cardio', hue='feature', data=df_long, kind='count', height=4, aspect=1.5)\n",
    "\n",
    "# Show the plot\n",
    "plt.show()"
   ]
  },
  {
   "cell_type": "markdown",
   "id": "f8df314b",
   "metadata": {},
   "source": [
    "Clean the data in the df_heat variable by filtering out the following patient segments that represent incorrect data:\n",
    "- height is less than the 2.5th percentile (Keep the correct data with (df['height'] >= df['height'].quantile(0.025)))\n",
    "- height is more than the 97.5th percentile\n",
    "- weight is less than the 2.5th percentile\n",
    "- weight is more than the 97.5th percentile"
   ]
  },
  {
   "cell_type": "code",
   "execution_count": null,
   "id": "f97c0e21",
   "metadata": {},
   "outputs": [],
   "source": [
    "# Define the conditions for filtering\n",
    "height_lower_bound = df['height'].quantile(0.025)\n",
    "height_upper_bound = df['height'].quantile(0.975)\n",
    "weight_lower_bound = df['weight'].quantile(0.025)\n",
    "weight_upper_bound = df['weight'].quantile(0.975)\n",
    "\n",
    "# Apply the conditions to filter the DataFrame\n",
    "df_filtered = df[(df['height'] >= height_lower_bound) & (df['height'] <= height_upper_bound) &\n",
    "                 (df['weight'] >= weight_lower_bound) & (df['weight'] <= weight_upper_bound)]\n",
    "\n",
    "# Display the filtered DataFrame\n",
    "print(df_filtered.head())"
   ]
  },
  {
   "cell_type": "code",
   "execution_count": null,
   "id": "ac9bbe0d",
   "metadata": {},
   "outputs": [],
   "source": [
    "# Select only numeric columns for the correlation matrix\n",
    "numeric_df = df_filtered.select_dtypes(include=[np.number])"
   ]
  },
  {
   "cell_type": "code",
   "execution_count": null,
   "id": "55cfd23d",
   "metadata": {},
   "outputs": [],
   "source": [
    "#Calculate the correlation matrix and store it in the corr variable\n",
    "corr = df_filtered.corr()\n",
    "corr"
   ]
  },
  {
   "cell_type": "code",
   "execution_count": null,
   "id": "c8f064bf",
   "metadata": {},
   "outputs": [],
   "source": [
    "#Generate a mask for the upper triangle and store it in the mask variable\n",
    "mask = np.triu(np.ones_like(corr, dtype=bool))"
   ]
  },
  {
   "cell_type": "code",
   "execution_count": null,
   "id": "e259f7d2",
   "metadata": {},
   "outputs": [],
   "source": [
    "#Set up the matplotlib figure\n",
    "# Create the heatmap with the mask\n",
    "plt.figure(figsize=(12, 10))\n",
    "sns.heatmap(corr, mask=mask, annot=True, cmap='coolwarm', vmax=.3, center=0, square=True, linewidths=.5, cbar_kws={\"shrink\": .5})\n",
    "\n",
    "# Add titles and labels\n",
    "plt.title('Heatmap of Correlation Matrix')\n",
    "plt.show()"
   ]
  },
  {
   "cell_type": "markdown",
   "id": "afb6db36",
   "metadata": {},
   "source": [
    "Timeseries project"
   ]
  },
  {
   "cell_type": "markdown",
   "id": "4739f07c",
   "metadata": {},
   "source": [
    "For this project you will visualize time series data using a line chart, bar chart, and box plots. You will use Pandas, Matplotlib, and Seaborn."
   ]
  },
  {
   "cell_type": "code",
   "execution_count": 20,
   "id": "a4bc935b",
   "metadata": {},
   "outputs": [],
   "source": [
    "date = pd.read_csv('data/fcc-forum-pageviews.csv',parse_dates=['date'], index_col='date')"
   ]
  },
  {
   "cell_type": "code",
   "execution_count": 19,
   "id": "ad69fb01",
   "metadata": {},
   "outputs": [
    {
     "data": {
      "text/html": [
       "<div>\n",
       "<style scoped>\n",
       "    .dataframe tbody tr th:only-of-type {\n",
       "        vertical-align: middle;\n",
       "    }\n",
       "\n",
       "    .dataframe tbody tr th {\n",
       "        vertical-align: top;\n",
       "    }\n",
       "\n",
       "    .dataframe thead th {\n",
       "        text-align: right;\n",
       "    }\n",
       "</style>\n",
       "<table border=\"1\" class=\"dataframe\">\n",
       "  <thead>\n",
       "    <tr style=\"text-align: right;\">\n",
       "      <th></th>\n",
       "      <th>value</th>\n",
       "    </tr>\n",
       "    <tr>\n",
       "      <th>date</th>\n",
       "      <th></th>\n",
       "    </tr>\n",
       "  </thead>\n",
       "  <tbody>\n",
       "    <tr>\n",
       "      <th>2016-05-19</th>\n",
       "      <td>19736</td>\n",
       "    </tr>\n",
       "    <tr>\n",
       "      <th>2016-05-26</th>\n",
       "      <td>18060</td>\n",
       "    </tr>\n",
       "    <tr>\n",
       "      <th>2016-05-27</th>\n",
       "      <td>19997</td>\n",
       "    </tr>\n",
       "    <tr>\n",
       "      <th>2016-05-28</th>\n",
       "      <td>19044</td>\n",
       "    </tr>\n",
       "    <tr>\n",
       "      <th>2016-05-29</th>\n",
       "      <td>20325</td>\n",
       "    </tr>\n",
       "    <tr>\n",
       "      <th>...</th>\n",
       "      <td>...</td>\n",
       "    </tr>\n",
       "    <tr>\n",
       "      <th>2019-11-24</th>\n",
       "      <td>138875</td>\n",
       "    </tr>\n",
       "    <tr>\n",
       "      <th>2019-11-29</th>\n",
       "      <td>171584</td>\n",
       "    </tr>\n",
       "    <tr>\n",
       "      <th>2019-11-30</th>\n",
       "      <td>141161</td>\n",
       "    </tr>\n",
       "    <tr>\n",
       "      <th>2019-12-01</th>\n",
       "      <td>142918</td>\n",
       "    </tr>\n",
       "    <tr>\n",
       "      <th>2019-12-03</th>\n",
       "      <td>158549</td>\n",
       "    </tr>\n",
       "  </tbody>\n",
       "</table>\n",
       "<p>1238 rows × 1 columns</p>\n",
       "</div>"
      ],
      "text/plain": [
       "             value\n",
       "date              \n",
       "2016-05-19   19736\n",
       "2016-05-26   18060\n",
       "2016-05-27   19997\n",
       "2016-05-28   19044\n",
       "2016-05-29   20325\n",
       "...            ...\n",
       "2019-11-24  138875\n",
       "2019-11-29  171584\n",
       "2019-11-30  141161\n",
       "2019-12-01  142918\n",
       "2019-12-03  158549\n",
       "\n",
       "[1238 rows x 1 columns]"
      ]
     },
     "execution_count": 19,
     "metadata": {},
     "output_type": "execute_result"
    }
   ],
   "source": [
    "#Clean the data by filtering out days when the page views were in the top 2.5% of the dataset or bottom 2.5% of the dataset.\n",
    "clean = date[\n",
    "        (date['value'] >= date['value'].quantile(0.025)) &\n",
    "        (date['value'] <= date['value'].quantile(0.975))\n",
    "    ]\n",
    "clean"
   ]
  },
  {
   "cell_type": "code",
   "execution_count": 21,
   "id": "63b258ff",
   "metadata": {},
   "outputs": [
    {
     "data": {
      "image/png": "[encoded data removed]",
      "text/plain": [
       "<Figure size 640x480 with 1 Axes>"
      ]
     },
     "metadata": {},
     "output_type": "display_data"
    }
   ],
   "source": [
    "#Create a draw_line_plot function that uses Matplotlib to draw a line chart\n",
    "clean.plot(linestyle='-', markevery=100, marker='o', markerfacecolor='black', rot=70);"
   ]
  },
  {
   "cell_type": "markdown",
   "id": "fedecc8b",
   "metadata": {},
   "source": [
    "Create a draw_bar_plot function that draws a bar chart. It should show average daily page views for each month grouped by year. The legend should show month labels and have a title of Months. On the chart, the label on the x axis should be Years and the label on the y axis should be Average Page Views."
   ]
  },
  {
   "cell_type": "code",
   "execution_count": 29,
   "id": "5593d1ff",
   "metadata": {},
   "outputs": [
    {
     "data": {
      "image/png": "[encoded data removed]",
      "text/plain": [
       "<Figure size 1000x600 with 1 Axes>"
      ]
     },
     "metadata": {},
     "output_type": "display_data"
    }
   ],
   "source": [
    "df_bar = clean.copy()\n",
    "df_bar['year'] = df_bar.index.year\n",
    "df_bar['month'] = df_bar.index.month\n",
    "\n",
    "# Calculate average daily page views for each month grouped by year\n",
    "df_grouped = df_bar.groupby(['year', 'month'])['value'].mean().unstack()\n",
    "    \n",
    "# Plotting the bar chart\n",
    "fig, ax = plt.subplots(figsize=(10, 6))\n",
    "df_grouped.plot(kind='bar', ax=ax)\n",
    "\n",
    "# Customize the plot\n",
    "ax.set_xlabel('Years')\n",
    "ax.set_ylabel('Average Page Views')\n",
    "ax.set_title('Average Daily Page Views for Each Month')\n",
    "\n",
    "# Customizing the legend\n",
    "months = ['January', 'February', 'March', 'April', 'May', 'June', \n",
    "          'July', 'August', 'September', 'October', 'November', 'December']\n",
    "ax.legend(title='Months', labels=months)\n",
    "\n",
    "# Show the plot\n",
    "plt.tight_layout()\n",
    "plt.show()"
   ]
  },
  {
   "cell_type": "markdown",
   "id": "5bb5a518",
   "metadata": {},
   "source": [
    "Create a draw_box_plot function that uses Seaborn to draw two adjacent box plots. \n",
    "These box plots should show how the values are distributed within a given year or month and how it compares over time. The title of the first chart should be Year-wise Box Plot (Trend) and the title of the second chart should be Month-wise Box Plot (Seasonality). Make sure the month labels on bottom start at Jan and the x and y axis are labeled correctly. The boilerplate includes commands to prepare the data."
   ]
  },
  {
   "cell_type": "code",
   "execution_count": null,
   "id": "6c78a862",
   "metadata": {},
   "outputs": [],
   "source": []
  }
 ],
 "metadata": {
  "kernelspec": {
   "display_name": "Python 3 (ipykernel)",
   "language": "python",
   "name": "python3"
  },
  "language_info": {
   "codemirror_mode": {
    "name": "ipython",
    "version": 3
   },
   "file_extension": ".py",
   "mimetype": "text/x-python",
   "name": "python",
   "nbconvert_exporter": "python",
   "pygments_lexer": "ipython3",
   "version": "3.9.18"
  }
 },
 "nbformat": 4,
 "nbformat_minor": 5
}
